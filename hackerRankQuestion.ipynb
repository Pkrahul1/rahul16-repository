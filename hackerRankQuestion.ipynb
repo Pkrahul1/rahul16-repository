{
 "cells": [
  {
   "cell_type": "markdown",
   "metadata": {},
   "source": [
    "Define f(n) as the sum of the factorials of the digits of n. For example,f(342)=3!+4!+2!=32 .\n",
    "\n",
    "Define sf(n) as the sum of the digits of f(n) . So sf(342)=3+2=5.\n",
    "\n",
    "Define g(i) to be the smallest positive integer n such that sf(n)=i . Though sf(342) is 5, sf(25) is also 5 , and it can be verified that g(5) is 25.\n",
    "\n",
    "Define sg(i) as the sum of the digits of g(i). So sg(5)=2+5=7.\n",
    "\n",
    "Further, it can be verified that g(20) is 267 sigma sg(i) i->1 to 20 and  is 156 .\n",
    "\n",
    "What is sigma sg(i) i->1 to n? As the number can be large, print it modulo m.\n",
    "\n",
    "Input Format------------------------\n",
    "\n",
    "The first line of each test file contains a single integer q, which is the number of queries per test file. q lines follow, each\n",
    "containing two integers separated by a single space: n and m of the corresponding query.\n",
    "\n",
    "Output Format------------------------\n",
    "\n",
    "Print exactly  lines, each containing a single integer, which is the answer to the corresponding query.\n",
    "\n",
    "Sample Input 0\n",
    "\n",
    "2\n",
    "3 1000000\n",
    "20 1000000\n",
    "Sample Output 0\n",
    "\n",
    "8\n",
    "156"
   ]
  },
  {
   "cell_type": "code",
   "execution_count": 1,
   "metadata": {},
   "outputs": [
    {
     "name": "stdout",
     "output_type": "stream",
     "text": [
      "2\n",
      "20 1000000\n",
      "156\n",
      "3 1000000\n",
      "8\n"
     ]
    }
   ],
   "source": [
    "def hacker1():\n",
    "    q=int(input());    \n",
    "    for i in range(1,q+1):\n",
    "        listofNandM=input().split();\n",
    "        n=int(listofNandM[0])\n",
    "        m=int(listofNandM[1]);\n",
    "        sum=0;\n",
    "        for j in range(1,n+1):\n",
    "            p=sg(j);\n",
    "            sum+=p;\n",
    "        print(sum%m)\n",
    "def sum(num):\n",
    "    numberInString=str(num)\n",
    "    sumOfdigits=0;\n",
    "    for char in numberInString:\n",
    "        sumOfdigits+=int(char);\n",
    "    return sumOfdigits;\n",
    "def sg(eachNumer):\n",
    "    sumOfDigits=sum(fact(eachNumer));   \n",
    "    i=1;\n",
    "    while sum(fact(i))!=eachNumer:\n",
    "        i+=1;        \n",
    "                    \n",
    "    return sum(i);\n",
    "\n",
    "def fact(number): \n",
    "    inString=str(number);\n",
    "    sum=0\n",
    "    for i in inString:\n",
    "        j=1;\n",
    "        for k in range(1,int(i)+1):\n",
    "            j*=k;\n",
    "        sum+=j;\n",
    "    return sum;\n",
    "\n",
    "hacker1();"
   ]
  },
  {
   "cell_type": "code",
   "execution_count": null,
   "metadata": {},
   "outputs": [],
   "source": []
  }
 ],
 "metadata": {
  "kernelspec": {
   "display_name": "Python 3",
   "language": "python",
   "name": "python3"
  },
  "language_info": {
   "codemirror_mode": {
    "name": "ipython",
    "version": 3
   },
   "file_extension": ".py",
   "mimetype": "text/x-python",
   "name": "python",
   "nbconvert_exporter": "python",
   "pygments_lexer": "ipython3",
   "version": "3.7.6"
  }
 },
 "nbformat": 4,
 "nbformat_minor": 4
}
